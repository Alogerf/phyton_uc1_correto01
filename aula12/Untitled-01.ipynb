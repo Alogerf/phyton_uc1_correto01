{
 "cells": [
  {
   "cell_type": "code",
   "execution_count": 12,
   "id": "6da0c5c1",
   "metadata": {},
   "outputs": [],
   "source": [
    "class Carro:\n",
    "    def __init__(self, marca, modelo, ano, cor, placa, seguro, reboque):\n",
    "        self.marca = marca\n",
    "        self.modelo = modelo\n",
    "        self.ano = ano\n",
    "        self.cor = cor\n",
    "        self.placa = placa\n",
    "        self.seguro = seguro\n",
    "        self.reboque = reboque\n",
    "        self._garantia = True\n",
    "        self._ligado = False\n",
    "\n",
    "    def ligar(self):\n",
    "        if self._ligado:\n",
    "            print(\"[ERRO] Carro já está ligado.\")\n",
    "        else:\n",
    "            self._ligado = True\n",
    "            print(\"[OK] Carro ligado.\")\n",
    "\n",
    "    def desligar(self):\n",
    "        if not self._ligado:\n",
    "            print(\"[ERRO] Carro já está desligado.\")\n",
    "        else:\n",
    "            self._ligado = False\n",
    "            print(\"[OK] Carro desligado.\")\n",
    "\n",
    "    def exibir_info(self):\n",
    "        print(\"\\n--- Info do Carro ---\")\n",
    "        print(f\"Marca   : {self.marca}\")\n",
    "        print(f\"Modelo  : {self.modelo}\")\n",
    "        print(f\"Ano     : {self.ano}\")\n",
    "        print(f\"Cor     : {self.cor}\")\n",
    "        print(f\"Placa   : {self.placa}\")\n",
    "        print(f\"Seguro  : {'Sim' if self.seguro else 'Não'}\")\n",
    "        print(f\"Reboque : {'Sim' if self.reboque else 'Não'}\")\n",
    "        print(f\"Status  : {'Ligado' if self._ligado else 'Desligado'}\")\n",
    "        print(f\"Garantia: {'Sim' if self._garantia else 'Não'}\")\n",
    "        print(\"----------------------\\n\")\n",
    "\n"
   ]
  },
  {
   "cell_type": "code",
   "execution_count": 13,
   "id": "4c7508d6",
   "metadata": {},
   "outputs": [],
   "source": [
    "meu_carro = Carro(\"Ford\", \"Ka\", 2020, \"Prata\", \"ABC-1234\", True, False)\n"
   ]
  },
  {
   "cell_type": "code",
   "execution_count": 14,
   "id": "59d04b56",
   "metadata": {},
   "outputs": [
    {
     "name": "stdout",
     "output_type": "stream",
     "text": [
      "<__main__.Carro object at 0x00000248D0A82390>\n"
     ]
    }
   ],
   "source": [
    "print(meu_carro)"
   ]
  },
  {
   "cell_type": "code",
   "execution_count": 15,
   "id": "f6b9e449",
   "metadata": {},
   "outputs": [
    {
     "name": "stdout",
     "output_type": "stream",
     "text": [
      "\n",
      "--- Info do Carro ---\n",
      "Marca   : Ford\n",
      "Modelo  : Ka\n",
      "Ano     : 2020\n",
      "Cor     : Prata\n",
      "Placa   : ABC-1234\n",
      "Seguro  : Sim\n",
      "Reboque : Não\n",
      "Status  : Desligado\n",
      "Garantia: Sim\n",
      "----------------------\n",
      "\n"
     ]
    }
   ],
   "source": [
    "meu_carro.exibir_info()"
   ]
  },
  {
   "cell_type": "code",
   "execution_count": 16,
   "id": "77454fe0",
   "metadata": {},
   "outputs": [
    {
     "name": "stdout",
     "output_type": "stream",
     "text": [
      "[OK] Carro ligado.\n"
     ]
    }
   ],
   "source": [
    "meu_carro.ligar()"
   ]
  },
  {
   "cell_type": "code",
   "execution_count": 18,
   "id": "eec321d2",
   "metadata": {},
   "outputs": [
    {
     "name": "stdout",
     "output_type": "stream",
     "text": [
      "[ERRO] Carro já está desligado.\n"
     ]
    }
   ],
   "source": [
    "meu_carro.desligar()"
   ]
  },
  {
   "cell_type": "code",
   "execution_count": 54,
   "id": "942cd2e1",
   "metadata": {},
   "outputs": [
    {
     "name": "stdout",
     "output_type": "stream",
     "text": [
      "\n",
      "--- Informações do Carro ---\n",
      "Marca    : Ford\n",
      "Modelo   : Ka\n",
      "Ano      : 2020\n",
      "Cor      : Prata\n",
      "Placa    : ABC-1234\n",
      "Seguro   : Sim\n",
      "Reboque  : Não\n",
      "Status   : Desligado\n",
      "Garantia : Sim\n",
      "-----------------------------\n",
      "\n"
     ]
    }
   ],
   "source": [
    "meu_carro.exibir_info()"
   ]
  },
  {
   "cell_type": "code",
   "execution_count": 41,
   "id": "9fa34302",
   "metadata": {},
   "outputs": [
    {
     "name": "stdout",
     "output_type": "stream",
     "text": [
      "Toyota Corolla foi emplacado com a placa ABC1234.\n",
      "\n",
      "--- Info do Carro ---\n",
      "Marca   : Toyota\n",
      "Modelo  : Corolla\n",
      "Ano     : 2020\n",
      "Cor     : Prata\n",
      "Placa   : ABC1234\n",
      "Seguro  : Não\n",
      "Reboque : Não instalado\n",
      "Status  : Desligado\n",
      "----------------------\n",
      "\n"
     ]
    }
   ],
   "source": [
    "\n",
    "meu_carro= Carro(\"Toyota\", \"Corolla\", 2020, \"Prata\")\n",
    "\n",
    "meu_carro.emplacar(\"ABC1234\")\n",
    "\n",
    "meu_carro.exibir_info()\n"
   ]
  },
  {
   "cell_type": "code",
   "execution_count": 38,
   "id": "4b3b8c46",
   "metadata": {},
   "outputs": [
    {
     "name": "stdout",
     "output_type": "stream",
     "text": [
      "Toyota Corolla já tem seguro.\n"
     ]
    }
   ],
   "source": [
    "meu_carro.contratar_seguro()"
   ]
  },
  {
   "cell_type": "code",
   "execution_count": 31,
   "id": "faa43849",
   "metadata": {},
   "outputs": [
    {
     "name": "stdout",
     "output_type": "stream",
     "text": [
      "Reboque instalado no Toyota Corolla.\n"
     ]
    }
   ],
   "source": [
    "meu_carro.instalar_reboque()"
   ]
  },
  {
   "cell_type": "code",
   "execution_count": 39,
   "id": "21b3d469",
   "metadata": {},
   "outputs": [
    {
     "name": "stdout",
     "output_type": "stream",
     "text": [
      "\n",
      "--- Info do Carro ---\n",
      "Marca   : Toyota\n",
      "Modelo  : Corolla\n",
      "Ano     : 2020\n",
      "Cor     : Prata\n",
      "Placa   : ABC1234\n",
      "Seguro  : Sim\n",
      "Reboque : Instalado\n",
      "Status  : Ligado\n",
      "----------------------\n",
      "\n"
     ]
    }
   ],
   "source": [
    "meu_carro.exibir_info()"
   ]
  },
  {
   "cell_type": "code",
   "execution_count": 33,
   "id": "18136d4b",
   "metadata": {},
   "outputs": [
    {
     "name": "stdout",
     "output_type": "stream",
     "text": [
      "Toyota Corolla está ligado.\n"
     ]
    }
   ],
   "source": [
    "meu_carro.ligar()"
   ]
  },
  {
   "cell_type": "code",
   "execution_count": 34,
   "id": "5c5ce830",
   "metadata": {},
   "outputs": [
    {
     "name": "stdout",
     "output_type": "stream",
     "text": [
      "\n",
      "--- Info do Carro ---\n",
      "Marca   : Toyota\n",
      "Modelo  : Corolla\n",
      "Ano     : 2020\n",
      "Cor     : Prata\n",
      "Placa   : ABC1234\n",
      "Seguro  : Sim\n",
      "Reboque : Instalado\n",
      "Status  : Ligado\n",
      "----------------------\n",
      "\n"
     ]
    }
   ],
   "source": [
    "meu_carro.exibir_info()"
   ]
  },
  {
   "cell_type": "code",
   "execution_count": null,
   "id": "e7f9eaf3",
   "metadata": {},
   "outputs": [],
   "source": [
    "class Carro:\n",
    "    def __init__(self, marca, modelo, ano, cor, placa, seguro, reboque):\n",
    "        self.marca = marca\n",
    "        self.modelo = modelo\n",
    "        self.ano = ano\n",
    "        self.cor = cor\n",
    "        self.placa = placa\n",
    "        self.seguro = seguro\n",
    "        self.reboque = reboque\n",
    "        self._garantia = True\n",
    "        self._ligado = False\n",
    "\n",
    "    def ligar(self):\n",
    "        if self._ligado:\n",
    "            print(\"[ERRO] Carro já está ligado.\")\n",
    "        else:\n",
    "            self._ligado = True\n",
    "            print(\"[OK] Carro ligado.\")\n",
    "\n",
    "    def desligar(self):\n",
    "        if not self._ligado:\n",
    "            print(\"[ERRO] Carro já está desligado.\")\n",
    "        else:\n",
    "            self._ligado = False\n",
    "            print(\"[OK] Carro desligado.\")\n",
    "\n",
    "    def exibir_info(self):\n",
    "        print(\"\\n--- Info do Carro ---\")\n",
    "        print(f\"Marca   : {self.marca}\")\n",
    "        print(f\"Modelo  : {self.modelo}\")\n",
    "        print(f\"Ano     : {self.ano}\")\n",
    "        print(f\"Cor     : {self.cor}\")\n",
    "        print(f\"Placa   : {self.placa}\")\n",
    "        print(f\"Seguro  : {'Sim' if self.seguro else 'Não'}\")\n",
    "        print(f\"Reboque : {'Sim' if self.reboque else 'Não'}\")\n",
    "        print(f\"Status  : {'Ligado' if self._ligado else 'Desligado'}\")\n",
    "        print(f\"Garantia: {'Sim' if self._garantia else 'Não'}\")\n",
    "        print(\"----------------------\\n\")\n",
    "\n",
    "\n",
    "colecao = {\n",
    "    \"ABC-1234\": Carro(\"Ford\", \"Ka\", 2020, \"Prata\", \"ABC-1234\", True, False),\n",
    "    \"DEF-5678\": Carro(\"Chevrolet\", \"Onix\", 2022, \"Preto\", \"DEF-5678\", True, True),\n",
    "    \"GHI-9012\": Carro(\"Volkswagen\", \"Gol\", 2019, \"Branco\", \"GHI-9012\", False, False)\n",
    "}\n",
    "\n",
    "\n",
    "placa_busca = input(\"Digite a placa do carro para exibir as informações: \").upper()\n",
    "\n",
    "if placa_busca in colecao:\n",
    "    colecao[placa_busca].exibir_info()\n",
    "else:\n",
    "    print(f\"Carro com placa {placa_busca} não encontrado.\")\n"
   ]
  },
  {
   "cell_type": "code",
   "execution_count": null,
   "id": "7fe68c9d",
   "metadata": {},
   "outputs": [],
   "source": []
  }
 ],
 "metadata": {
  "kernelspec": {
   "display_name": "Python 3",
   "language": "python",
   "name": "python3"
  },
  "language_info": {
   "codemirror_mode": {
    "name": "ipython",
    "version": 3
   },
   "file_extension": ".py",
   "mimetype": "text/x-python",
   "name": "python",
   "nbconvert_exporter": "python",
   "pygments_lexer": "ipython3",
   "version": "3.12.1"
  }
 },
 "nbformat": 4,
 "nbformat_minor": 5
}
