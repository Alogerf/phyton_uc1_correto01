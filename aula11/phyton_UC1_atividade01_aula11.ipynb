{
 "cells": [
  {
   "cell_type": "code",
   "execution_count": 26,
   "id": "2989a55a",
   "metadata": {},
   "outputs": [
    {
     "name": "stdout",
     "output_type": "stream",
     "text": [
      "[[29, 13, 46], [30, 10, 32], [79, 30, 90]]\n"
     ]
    }
   ],
   "source": [
    "import random\n",
    "matriz_2 = []\n",
    "for i in range(3):\n",
    "    linha = []\n",
    "\n",
    "    for j in range(3):\n",
    "     valor=random.randint(0,100)\n",
    "     linha.append(valor)\n",
    "     \n",
    "    matriz_2.append(linha)\n",
    "\n",
    "print(f\"{matriz_2}\")"
   ]
  },
  {
   "cell_type": "code",
   "execution_count": 6,
   "id": "4ad60c59",
   "metadata": {},
   "outputs": [
    {
     "name": "stdout",
     "output_type": "stream",
     "text": [
      " 30   1  22   9  25  58  19   4  82 "
     ]
    }
   ],
   "source": [
    "for linha in matriz_2:\n",
    "     for valor in linha:\n",
    "        print(f\"{valor:3d}\", end=\" \")"
   ]
  },
  {
   "cell_type": "code",
   "execution_count": 8,
   "id": "45444d97",
   "metadata": {},
   "outputs": [
    {
     "name": "stdout",
     "output_type": "stream",
     "text": [
      "elemento (0)(0) = 30\n",
      "elemento (0)(1) = 1\n",
      "elemento (0)(2) = 22\n",
      "elemento (1)(0) = 9\n",
      "elemento (1)(1) = 25\n",
      "elemento (1)(2) = 58\n",
      "elemento (2)(0) = 19\n",
      "elemento (2)(1) = 4\n",
      "elemento (2)(2) = 82\n"
     ]
    }
   ],
   "source": [
    "for i in range(3):\n",
    "     for j in range(3):\n",
    "        print(f\"elemento ({i})({j}) = {matriz_2[i][j]}\")"
   ]
  },
  {
   "cell_type": "code",
   "execution_count": 34,
   "id": "630af95c",
   "metadata": {},
   "outputs": [
    {
     "name": "stdout",
     "output_type": "stream",
     "text": [
      "[21.0, 34.0, 23.0, 12.0]\n",
      "[43.0, 54.0, 65.0, 23.0]\n",
      "[12.0, 23.0, 43.0, 212.0]\n",
      "[21.0, 32.0, 43.0, 54.0]\n"
     ]
    }
   ],
   "source": [
    "matriz = []\n",
    "\n",
    "for i in range(4):  \n",
    "    linha = []     \n",
    "    for j in range(4):  \n",
    "        valor = float(input(\"Digite um valor entre 0 a 99: \"))\n",
    "        linha.append(valor)  \n",
    "    matriz.append(linha)  \n",
    "\n",
    "for linha in matriz:\n",
    "    print(linha)\n"
   ]
  },
  {
   "cell_type": "code",
   "execution_count": 45,
   "id": "a0df342a",
   "metadata": {},
   "outputs": [
    {
     "name": "stdout",
     "output_type": "stream",
     "text": [
      "Quantidade de números pares: 7\n",
      "quantidade de números ímpares: 18\n"
     ]
    }
   ],
   "source": [
    "pares = 0\n",
    "for i in range(4):\n",
    "    for j in range(4):\n",
    "        if matriz[i][j] % 2 == 0:\n",
    "            pares += 1\n",
    "\n",
    "print(f\"Quantidade de números pares: {pares}\")\n",
    "\n",
    "impar = 1 \n",
    "for i in range(4):\n",
    "    for j in range(4):\n",
    "        if matriz[i][j] % 2 != 0:\n",
    "            matriz[i][j] = impar\n",
    "            impar += 2\n",
    "print(f\"quantidade de números ímpares: {impar - 1}\")"
   ]
  },
  {
   "cell_type": "code",
   "execution_count": null,
   "id": "1114b982",
   "metadata": {},
   "outputs": [
    {
     "name": "stdout",
     "output_type": "stream",
     "text": [
      "\n",
      "Digite os valores para a matriz 6x2:\n",
      "\n",
      "Matriz:\n",
      "   12    12\n",
      "   12    32\n",
      "    2     3\n",
      "    4     5\n",
      "    6     7\n",
      "    8     9\n",
      "Digite um número entre 0 e 5.\n",
      "\n",
      "Matriz após multiplicar a linha 4 por 3:\n",
      "\n",
      "Matriz:\n",
      "   12    12\n",
      "   12    32\n",
      "    2     3\n",
      "    4     5\n",
      "   18    21\n",
      "    8     9\n"
     ]
    }
   ],
   "source": [
    "def criar_matriz(linhas, colunas):\n",
    "    matriz = []\n",
    "    for i in range(linhas):\n",
    "        linha = []\n",
    "        for j in range(colunas):\n",
    "            valor = int(input(f\"Elemento [{i}][{j}]: \"))\n",
    "            linha.append(valor)\n",
    "        matriz.append(linha)\n",
    "    return matriz\n",
    "\n",
    "def exibir_matriz(matriz):\n",
    "    for linha in matriz:\n",
    "        print(\" \".join(str(num) for num in linha))\n",
    "\n",
    "def multiplicar_linha(matriz, linha_index, multiplicador):\n",
    "    for j in range(len(matriz[linha_index])):\n",
    "        matriz[linha_index][j] *= multiplicador\n",
    "\n",
    "linhas = int(input(\"Número de linhas: \"))\n",
    "colunas = int(input(\"Número de colunas: \"))\n",
    "\n",
    "matriz = criar_matriz(linhas, colunas)\n",
    "exibir_matriz(matriz)\n",
    "\n",
    "linha = int(input(\"Linha a multiplicar: \"))\n",
    "multiplicador = int(input(\"Multiplicador: \"))\n",
    "\n",
    "multiplicar_linha(matriz, linha, multiplicador)\n",
    "\n",
    "print(\"Matriz resultante:\")\n",
    "exibir_matriz(matriz)\n"
   ]
  },
  {
   "cell_type": "code",
   "execution_count": 18,
   "id": "dd30da0e",
   "metadata": {},
   "outputs": [
    {
     "name": "stdout",
     "output_type": "stream",
     "text": [
      "Matriz 1:\n",
      "[193, 405, 144, 775, 475, 147, 787, 214, 711, 245]\n",
      "[819, 439, 728, 396, 478, 890, 546, 340, 476, 122]\n",
      "[907, 625, 685, 416, 678, 345, 207, 186, 184, 722]\n",
      "[361, 37, 328, 52, 315, 200, 822, 817, 403, 47]\n",
      "[255, 934, 348, 462, 201, 646, 826, 266, 339, 657]\n",
      "[529, 927, 309, 351, 77, 838, 132, 706, 688, 525]\n",
      "[376, 701, 991, 475, 899, 784, 792, 963, 535, 977]\n",
      "[961, 646, 500, 241, 584, 31, 901, 731, 264, 846]\n",
      "[567, 295, 33, 482, 359, 130, 557, 54, 183, 852]\n",
      "[39, 583, 943, 966, 729, 592, 340, 873, 811, 575]\n",
      "\n",
      "Matriz 2:\n",
      "[379, 817, 857, 111, 333, 630, 379, 161, 412, 717]\n",
      "[351, 450, 853, 519, 457, 709, 503, 799, 890, 426]\n",
      "[855, 217, 583, 841, 361, 959, 737, 234, 614, 638]\n",
      "[812, 96, 236, 728, 785, 839, 219, 432, 931, 810]\n",
      "[737, 431, 165, 656, 143, 634, 857, 502, 737, 584]\n",
      "[513, 789, 495, 142, 177, 234, 200, 244, 1000, 240]\n",
      "[566, 722, 301, 710, 358, 535, 433, 922, 711, 970]\n",
      "[762, 4, 180, 622, 345, 618, 905, 573, 979, 231]\n",
      "[543, 997, 871, 102, 605, 433, 263, 398, 773, 901]\n",
      "[918, 287, 83, 345, 481, 968, 362, 222, 82, 668]\n",
      "\n",
      "Matriz soma 10x10:\n",
      "[572, 1222, 1001, 886, 808, 777, 1166, 375, 1123, 962]\n",
      "[1170, 889, 1581, 915, 935, 1599, 1049, 1139, 1366, 548]\n",
      "[1762, 842, 1268, 1257, 1039, 1304, 944, 420, 798, 1360]\n",
      "[1173, 133, 564, 780, 1100, 1039, 1041, 1249, 1334, 857]\n",
      "[992, 1365, 513, 1118, 344, 1280, 1683, 768, 1076, 1241]\n",
      "[1042, 1716, 804, 493, 254, 1072, 332, 950, 1688, 765]\n",
      "[942, 1423, 1292, 1185, 1257, 1319, 1225, 1885, 1246, 1947]\n",
      "[1723, 650, 680, 863, 929, 649, 1806, 1304, 1243, 1077]\n",
      "[1110, 1292, 904, 584, 964, 563, 820, 452, 956, 1753]\n",
      "[957, 870, 1026, 1311, 1210, 1560, 702, 1095, 893, 1243]\n"
     ]
    }
   ],
   "source": [
    "import random\n",
    "\n",
    "matriz1 = []\n",
    "for i in range(0, 10):\n",
    "    linha = []\n",
    "    for j in range(0, 10):\n",
    "        valor = random.randint(0, 1000)\n",
    "        linha.append(valor)\n",
    "    matriz1.append(linha)\n",
    "\n",
    "matriz2 = []\n",
    "for i in range(0, 10):\n",
    "    linha = []\n",
    "    for j in range(0, 10):\n",
    "        valor = random.randint(0, 1000)\n",
    "        linha.append(valor)\n",
    "    matriz2.append(linha)\n",
    "\n",
    "print(\"Matriz 1:\")\n",
    "for linha in matriz1:\n",
    "    print(linha)\n",
    "\n",
    "print(\"\\nMatriz 2:\")\n",
    "for linha in matriz2:\n",
    "    print(linha)\n",
    "\n",
    "matriz_soma = []\n",
    "for i in range(10):\n",
    "    linha = []\n",
    "    for j in range(10):\n",
    "        soma = matriz1[i][j] + matriz2[i][j]\n",
    "        linha.append(soma)\n",
    "    matriz_soma.append(linha)\n",
    "\n",
    "print(\"\\nMatriz soma 10x10:\")\n",
    "for linha in matriz_soma:\n",
    "    print(linha)\n",
    "\n",
    "\n",
    "soma = []\n",
    "for i in range(10):\n",
    "    linha = []\n",
    "    for j in range(10):\n",
    "        somadenumeros = matriz1[i][j] + matriz2[i][j]\n",
    "        linha.append(somadenumeros) \n",
    "    soma.append(linha) \n"
   ]
  },
  {
   "cell_type": "code",
   "execution_count": null,
   "id": "a66e2814",
   "metadata": {},
   "outputs": [],
   "source": []
  }
 ],
 "metadata": {
  "kernelspec": {
   "display_name": "Python 3",
   "language": "python",
   "name": "python3"
  },
  "language_info": {
   "codemirror_mode": {
    "name": "ipython",
    "version": 3
   },
   "file_extension": ".py",
   "mimetype": "text/x-python",
   "name": "python",
   "nbconvert_exporter": "python",
   "pygments_lexer": "ipython3",
   "version": "3.12.1"
  }
 },
 "nbformat": 4,
 "nbformat_minor": 5
}
