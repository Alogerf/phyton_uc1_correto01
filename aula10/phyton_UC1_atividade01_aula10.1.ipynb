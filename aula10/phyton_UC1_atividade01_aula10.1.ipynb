{
 "cells": [
  {
   "cell_type": "code",
   "execution_count": 26,
   "id": "2989a55a",
   "metadata": {},
   "outputs": [
    {
     "name": "stdout",
     "output_type": "stream",
     "text": [
      "[[29, 13, 46], [30, 10, 32], [79, 30, 90]]\n"
     ]
    }
   ],
   "source": [
    "import random\n",
    "matriz_2 = []\n",
    "for i in range(3):\n",
    "    linha = []\n",
    "\n",
    "    for j in range(3):\n",
    "     valor=random.randint(0,100)\n",
    "     linha.append(valor)\n",
    "     \n",
    "    matriz_2.append(linha)\n",
    "\n",
    "print(f\"{matriz_2}\")"
   ]
  },
  {
   "cell_type": "code",
   "execution_count": 6,
   "id": "4ad60c59",
   "metadata": {},
   "outputs": [
    {
     "name": "stdout",
     "output_type": "stream",
     "text": [
      " 30   1  22   9  25  58  19   4  82 "
     ]
    }
   ],
   "source": [
    "for linha in matriz_2:\n",
    "     for valor in linha:\n",
    "        print(f\"{valor:3d}\", end=\" \")"
   ]
  },
  {
   "cell_type": "code",
   "execution_count": 8,
   "id": "45444d97",
   "metadata": {},
   "outputs": [
    {
     "name": "stdout",
     "output_type": "stream",
     "text": [
      "elemento (0)(0) = 30\n",
      "elemento (0)(1) = 1\n",
      "elemento (0)(2) = 22\n",
      "elemento (1)(0) = 9\n",
      "elemento (1)(1) = 25\n",
      "elemento (1)(2) = 58\n",
      "elemento (2)(0) = 19\n",
      "elemento (2)(1) = 4\n",
      "elemento (2)(2) = 82\n"
     ]
    }
   ],
   "source": [
    "for i in range(3):\n",
    "     for j in range(3):\n",
    "        print(f\"elemento ({i})({j}) = {matriz_2[i][j]}\")"
   ]
  },
  {
   "cell_type": "code",
   "execution_count": 34,
   "id": "630af95c",
   "metadata": {},
   "outputs": [
    {
     "name": "stdout",
     "output_type": "stream",
     "text": [
      "[21.0, 34.0, 23.0, 12.0]\n",
      "[43.0, 54.0, 65.0, 23.0]\n",
      "[12.0, 23.0, 43.0, 212.0]\n",
      "[21.0, 32.0, 43.0, 54.0]\n"
     ]
    }
   ],
   "source": [
    "matriz = []\n",
    "\n",
    "for i in range(4):  \n",
    "    linha = []     \n",
    "    for j in range(4):  \n",
    "        valor = float(input(\"Digite um valor entre 0 a 99: \"))\n",
    "        linha.append(valor)  \n",
    "    matriz.append(linha)  \n",
    "\n",
    "for linha in matriz:\n",
    "    print(linha)\n"
   ]
  },
  {
   "cell_type": "code",
   "execution_count": 45,
   "id": "a0df342a",
   "metadata": {},
   "outputs": [
    {
     "name": "stdout",
     "output_type": "stream",
     "text": [
      "Quantidade de números pares: 7\n",
      "quantidade de números ímpares: 18\n"
     ]
    }
   ],
   "source": [
    "pares = 0\n",
    "for i in range(4):\n",
    "    for j in range(4):\n",
    "        if matriz[i][j] % 2 == 0:\n",
    "            pares += 1\n",
    "\n",
    "print(f\"Quantidade de números pares: {pares}\")\n",
    "\n",
    "impar = 1 \n",
    "for i in range(4):\n",
    "    for j in range(4):\n",
    "        if matriz[i][j] % 2 != 0:\n",
    "            matriz[i][j] = impar\n",
    "            impar += 2\n",
    "print(f\"quantidade de números ímpares: {impar - 1}\")"
   ]
  },
  {
   "cell_type": "code",
   "execution_count": 1,
   "id": "1114b982",
   "metadata": {},
   "outputs": [
    {
     "name": "stdout",
     "output_type": "stream",
     "text": [
      "\n",
      "Digite os valores para a matriz 6x2:\n",
      "\n",
      "Matriz:\n",
      "   12    12\n",
      "   12    32\n",
      "    2     3\n",
      "    4     5\n",
      "    6     7\n",
      "    8     9\n",
      "Digite um número entre 0 e 5.\n",
      "\n",
      "Matriz após multiplicar a linha 4 por 3:\n",
      "\n",
      "Matriz:\n",
      "   12    12\n",
      "   12    32\n",
      "    2     3\n",
      "    4     5\n",
      "   18    21\n",
      "    8     9\n"
     ]
    }
   ],
   "source": [
    "def criar_matriz(linhas, colunas):\n",
    "    \"\"\"Cria uma matriz preenchida com valores fornecidos pelo usuário.\"\"\"\n",
    "    matriz = []\n",
    "    print(f\"\\nDigite os valores para a matriz {linhas}x{colunas}:\")\n",
    "    for i in range(linhas):\n",
    "        linha = []\n",
    "        for j in range(colunas):\n",
    "            while True:\n",
    "                try:\n",
    "                    valor = int(input(f\"Elemento [{i}][{j}]: \"))\n",
    "                    linha.append(valor)\n",
    "                    break\n",
    "                except ValueError:\n",
    "                    print(\"Entrada inválida. Digite um número inteiro.\")\n",
    "        matriz.append(linha)\n",
    "    return matriz\n",
    "\n",
    "def exibir_matriz(matriz):\n",
    "    \"\"\"Exibe a matriz formatada.\"\"\"\n",
    "    print(\"\\nMatriz:\")\n",
    "    for linha in matriz:\n",
    "        print(\" \".join(f\"{num:5}\" for num in linha))\n",
    "\n",
    "def multiplicar_linha(matriz, linha_index, multiplicador):\n",
    "    \"\"\"Multiplica uma linha da matriz por um número.\"\"\"\n",
    "    for j in range(len(matriz[linha_index])):\n",
    "        matriz[linha_index][j] *= multiplicador\n",
    "\n",
    "# ------------------ PROGRAMA PRINCIPAL ------------------\n",
    "\n",
    "while True:\n",
    "    try:\n",
    "        linhas = int(input(\"Digite o número de linhas da matriz: \"))\n",
    "        colunas = int(input(\"Digite o número de colunas da matriz: \"))\n",
    "        if linhas > 0 and colunas > 0:\n",
    "            break\n",
    "        else:\n",
    "            print(\"Os valores devem ser maiores que zero.\")\n",
    "    except ValueError:\n",
    "        print(\"Entrada inválida. Digite números inteiros.\")\n",
    "\n",
    "matriz = criar_matriz(linhas, colunas)\n",
    "exibir_matriz(matriz)\n",
    "\n",
    "while True:\n",
    "    try:\n",
    "        linha_escolhida = int(input(f\"\\nDigite a linha a ser multiplicada (0 a {linhas - 1}): \"))\n",
    "        if 0 <= linha_escolhida < linhas:\n",
    "            break\n",
    "        else:\n",
    "            print(f\"Digite um número entre 0 e {linhas - 1}.\")\n",
    "    except ValueError:\n",
    "        print(\"Entrada inválida. Digite um número inteiro.\")\n",
    "\n",
    "while True:\n",
    "    try:\n",
    "        num = int(input(\"Digite o número para multiplicar a linha: \"))\n",
    "        break\n",
    "    except ValueError:\n",
    "        print(\"Entrada inválida. Digite um número inteiro.\")\n",
    "\n",
    "multiplicar_linha(matriz, linha_escolhida, num)\n",
    "print(f\"\\nMatriz após multiplicar a linha {linha_escolhida} por {num}:\")\n",
    "exibir_matriz(matriz)\n"
   ]
  },
  {
   "cell_type": "code",
   "execution_count": null,
   "id": "dd30da0e",
   "metadata": {},
   "outputs": [],
   "source": []
  }
 ],
 "metadata": {
  "kernelspec": {
   "display_name": "Python 3",
   "language": "python",
   "name": "python3"
  },
  "language_info": {
   "codemirror_mode": {
    "name": "ipython",
    "version": 3
   },
   "file_extension": ".py",
   "mimetype": "text/x-python",
   "name": "python",
   "nbconvert_exporter": "python",
   "pygments_lexer": "ipython3",
   "version": "3.12.1"
  }
 },
 "nbformat": 4,
 "nbformat_minor": 5
}
