{
 "cells": [
  {
   "cell_type": "code",
   "execution_count": 26,
   "id": "2989a55a",
   "metadata": {},
   "outputs": [
    {
     "name": "stdout",
     "output_type": "stream",
     "text": [
      "[[29, 13, 46], [30, 10, 32], [79, 30, 90]]\n"
     ]
    }
   ],
   "source": [
    "import random\n",
    "matriz_2 = []\n",
    "for i in range(3):\n",
    "    linha = []\n",
    "\n",
    "    for j in range(3):\n",
    "     valor=random.randint(0,100)\n",
    "     linha.append(valor)\n",
    "     \n",
    "    matriz_2.append(linha)\n",
    "\n",
    "print(f\"{matriz_2}\")"
   ]
  },
  {
   "cell_type": "code",
   "execution_count": 6,
   "id": "4ad60c59",
   "metadata": {},
   "outputs": [
    {
     "name": "stdout",
     "output_type": "stream",
     "text": [
      " 30   1  22   9  25  58  19   4  82 "
     ]
    }
   ],
   "source": [
    "for linha in matriz_2:\n",
    "     for valor in linha:\n",
    "        print(f\"{valor:3d}\", end=\" \")"
   ]
  },
  {
   "cell_type": "code",
   "execution_count": 8,
   "id": "45444d97",
   "metadata": {},
   "outputs": [
    {
     "name": "stdout",
     "output_type": "stream",
     "text": [
      "elemento (0)(0) = 30\n",
      "elemento (0)(1) = 1\n",
      "elemento (0)(2) = 22\n",
      "elemento (1)(0) = 9\n",
      "elemento (1)(1) = 25\n",
      "elemento (1)(2) = 58\n",
      "elemento (2)(0) = 19\n",
      "elemento (2)(1) = 4\n",
      "elemento (2)(2) = 82\n"
     ]
    }
   ],
   "source": [
    "for i in range(3):\n",
    "     for j in range(3):\n",
    "        print(f\"elemento ({i})({j}) = {matriz_2[i][j]}\")"
   ]
  },
  {
   "cell_type": "code",
   "execution_count": 34,
   "id": "630af95c",
   "metadata": {},
   "outputs": [
    {
     "name": "stdout",
     "output_type": "stream",
     "text": [
      "[21.0, 34.0, 23.0, 12.0]\n",
      "[43.0, 54.0, 65.0, 23.0]\n",
      "[12.0, 23.0, 43.0, 212.0]\n",
      "[21.0, 32.0, 43.0, 54.0]\n"
     ]
    }
   ],
   "source": [
    "matriz = []\n",
    "\n",
    "for i in range(4):  \n",
    "    linha = []     \n",
    "    for j in range(4):  \n",
    "        valor = float(input(\"Digite um valor entre 0 a 99: \"))\n",
    "        linha.append(valor)  \n",
    "    matriz.append(linha)  \n",
    "\n",
    "for linha in matriz:\n",
    "    print(linha)\n"
   ]
  },
  {
   "cell_type": "code",
   "execution_count": 45,
   "id": "a0df342a",
   "metadata": {},
   "outputs": [
    {
     "name": "stdout",
     "output_type": "stream",
     "text": [
      "Quantidade de números pares: 7\n",
      "quantidade de números ímpares: 18\n"
     ]
    }
   ],
   "source": [
    "pares = 0\n",
    "for i in range(4):\n",
    "    for j in range(4):\n",
    "        if matriz[i][j] % 2 == 0:\n",
    "            pares += 1\n",
    "\n",
    "print(f\"Quantidade de números pares: {pares}\")\n",
    "\n",
    "impar = 1 \n",
    "for i in range(4):\n",
    "    for j in range(4):\n",
    "        if matriz[i][j] % 2 != 0:\n",
    "            matriz[i][j] = impar\n",
    "            impar += 2\n",
    "print(f\"quantidade de números ímpares: {impar - 1}\")"
   ]
  }
 ],
 "metadata": {
  "kernelspec": {
   "display_name": "Python 3",
   "language": "python",
   "name": "python3"
  },
  "language_info": {
   "codemirror_mode": {
    "name": "ipython",
    "version": 3
   },
   "file_extension": ".py",
   "mimetype": "text/x-python",
   "name": "python",
   "nbconvert_exporter": "python",
   "pygments_lexer": "ipython3",
   "version": "3.12.1"
  }
 },
 "nbformat": 4,
 "nbformat_minor": 5
}
