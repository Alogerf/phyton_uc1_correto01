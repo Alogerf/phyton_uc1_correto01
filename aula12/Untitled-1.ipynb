{
 "cells": [
  {
   "cell_type": "code",
   "execution_count": null,
   "id": "6da0c5c1",
   "metadata": {},
   "outputs": [],
   "source": [
    "class Carro:\n",
    "    def __init__(self, marca, modelo, ano, cor, placa, seguro, reboque):\n",
    "        self.marca = marca\n",
    "        self.modelo = modelo\n",
    "        self.ano = ano\n",
    "        self.cor = cor\n",
    "        self.placa = placa\n",
    "        self.seguro = seguro\n",
    "        self.reboque = reboque\n",
    "        self._garantia = True\n",
    "        self._ligado = False\n",
    "\n",
    "    def ligar(self):\n",
    "        if self._ligado:\n",
    "            print(\"[ERRO] Carro já está ligado.\")\n",
    "        else:\n",
    "            self._ligado = True\n",
    "            print(\"[OK] Carro ligado.\")\n",
    "\n",
    "    def desligar(self):\n",
    "        if not self._ligado:\n",
    "            print(\"[ERRO] Carro já está desligado.\")\n",
    "        else:\n",
    "            self._ligado = False\n",
    "            print(\"[OK] Carro desligado.\")\n",
    "\n",
    "    def exibir_info(self):\n",
    "        print(\"\\n--- Info do Carro ---\")\n",
    "        print(f\"Marca   : {self.marca}\")\n",
    "        print(f\"Modelo  : {self.modelo}\")\n",
    "        print(f\"Ano     : {self.ano}\")\n",
    "        print(f\"Cor     : {self.cor}\")\n",
    "        print(f\"Placa   : {self.placa}\")\n",
    "        print(f\"Seguro  : {'Sim' if self.seguro else 'Não'}\")\n",
    "        print(f\"Reboque : {'Sim' if self.reboque else 'Não'}\")\n",
    "        print(f\"Status  : {'Ligado' if self._ligado else 'Desligado'}\")\n",
    "        print(f\"Garantia: {'Sim' if self._garantia else 'Não'}\")\n",
    "        print(\"----------------------\\n\")\n",
    "\n"
   ]
  },
  {
   "cell_type": "code",
   "execution_count": 49,
   "id": "4c7508d6",
   "metadata": {},
   "outputs": [],
   "source": [
    "meu_carro = Carro(\"Ford\", \"Ka\", 2020, \"Prata\", \"ABC-1234\", True, False)\n"
   ]
  },
  {
   "cell_type": "code",
   "execution_count": 50,
   "id": "59d04b56",
   "metadata": {},
   "outputs": [
    {
     "name": "stdout",
     "output_type": "stream",
     "text": [
      "<__main__.Carro object at 0x000001AE3D75ACF0>\n"
     ]
    }
   ],
   "source": [
    "print(meu_carro)"
   ]
  },
  {
   "cell_type": "code",
   "execution_count": 51,
   "id": "f6b9e449",
   "metadata": {},
   "outputs": [
    {
     "name": "stdout",
     "output_type": "stream",
     "text": [
      "\n",
      "--- Informações do Carro ---\n",
      "Marca    : Ford\n",
      "Modelo   : Ka\n",
      "Ano      : 2020\n",
      "Cor      : Prata\n",
      "Placa    : ABC-1234\n",
      "Seguro   : Sim\n",
      "Reboque  : Não\n",
      "Status   : Desligado\n",
      "Garantia : Sim\n",
      "-----------------------------\n",
      "\n"
     ]
    }
   ],
   "source": [
    "meu_carro.exibir_info()"
   ]
  },
  {
   "cell_type": "code",
   "execution_count": 52,
   "id": "77454fe0",
   "metadata": {},
   "outputs": [
    {
     "name": "stdout",
     "output_type": "stream",
     "text": [
      "\n",
      "\t[OK] O carro está ligado!\n",
      "\n"
     ]
    }
   ],
   "source": [
    "meu_carro.ligar()"
   ]
  },
  {
   "cell_type": "code",
   "execution_count": 53,
   "id": "eec321d2",
   "metadata": {},
   "outputs": [
    {
     "name": "stdout",
     "output_type": "stream",
     "text": [
      "\n",
      "\t[OK] O carro está desligado!\n",
      "\n"
     ]
    }
   ],
   "source": [
    "meu_carro.desligar()"
   ]
  },
  {
   "cell_type": "code",
   "execution_count": 54,
   "id": "942cd2e1",
   "metadata": {},
   "outputs": [
    {
     "name": "stdout",
     "output_type": "stream",
     "text": [
      "\n",
      "--- Informações do Carro ---\n",
      "Marca    : Ford\n",
      "Modelo   : Ka\n",
      "Ano      : 2020\n",
      "Cor      : Prata\n",
      "Placa    : ABC-1234\n",
      "Seguro   : Sim\n",
      "Reboque  : Não\n",
      "Status   : Desligado\n",
      "Garantia : Sim\n",
      "-----------------------------\n",
      "\n"
     ]
    }
   ],
   "source": [
    "meu_carro.exibir_info()"
   ]
  },
  {
   "cell_type": "code",
   "execution_count": null,
   "id": "c109a15e",
   "metadata": {},
   "outputs": [],
   "source": []
  }
 ],
 "metadata": {
  "kernelspec": {
   "display_name": "Python 3",
   "language": "python",
   "name": "python3"
  },
  "language_info": {
   "codemirror_mode": {
    "name": "ipython",
    "version": 3
   },
   "file_extension": ".py",
   "mimetype": "text/x-python",
   "name": "python",
   "nbconvert_exporter": "python",
   "pygments_lexer": "ipython3",
   "version": "3.12.1"
  }
 },
 "nbformat": 4,
 "nbformat_minor": 5
}
